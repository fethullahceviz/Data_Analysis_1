{
 "cells": [
  {
   "cell_type": "code",
   "execution_count": 2,
   "metadata": {},
   "outputs": [],
   "source": [
    "import numpy as np"
   ]
  },
  {
   "cell_type": "markdown",
   "metadata": {},
   "source": [
    "#### 1. Numpy’da Vektor ve Matrisin farkini tek cumle ile ifade ediniz."
   ]
  },
  {
   "cell_type": "code",
   "execution_count": 3,
   "metadata": {},
   "outputs": [],
   "source": [
    "## Numpy dizileri tek boyutlu olursa Vektör, çok boyutlu olursa Matris denir."
   ]
  },
  {
   "cell_type": "markdown",
   "metadata": {},
   "source": [
    "***"
   ]
  },
  {
   "cell_type": "markdown",
   "metadata": {},
   "source": [
    "#### 2. 10 elemanli bir listeden NumPy Array’i olusturunuz."
   ]
  },
  {
   "cell_type": "code",
   "execution_count": 4,
   "metadata": {},
   "outputs": [
    {
     "data": {
      "text/plain": [
       "array([ 1,  2,  3,  4,  5,  6,  7,  8,  9, 10])"
      ]
     },
     "execution_count": 4,
     "metadata": {},
     "output_type": "execute_result"
    }
   ],
   "source": [
    "np.array([1,2,3,4,5,6,7,8,9,10])"
   ]
  },
  {
   "cell_type": "markdown",
   "metadata": {},
   "source": [
    "***"
   ]
  },
  {
   "cell_type": "markdown",
   "metadata": {},
   "source": [
    "#### 3. Icerisinde ‘0’ lar olan, ve veri tipi integer olan 10X10’luk bir matris olusturunuz."
   ]
  },
  {
   "cell_type": "code",
   "execution_count": 5,
   "metadata": {},
   "outputs": [
    {
     "data": {
      "text/plain": [
       "array([[0, 0, 0, 0, 0, 0, 0, 0, 0, 0],\n",
       "       [0, 0, 0, 0, 0, 0, 0, 0, 0, 0],\n",
       "       [0, 0, 0, 0, 0, 0, 0, 0, 0, 0],\n",
       "       [0, 0, 0, 0, 0, 0, 0, 0, 0, 0],\n",
       "       [0, 0, 0, 0, 0, 0, 0, 0, 0, 0],\n",
       "       [0, 0, 0, 0, 0, 0, 0, 0, 0, 0],\n",
       "       [0, 0, 0, 0, 0, 0, 0, 0, 0, 0],\n",
       "       [0, 0, 0, 0, 0, 0, 0, 0, 0, 0],\n",
       "       [0, 0, 0, 0, 0, 0, 0, 0, 0, 0],\n",
       "       [0, 0, 0, 0, 0, 0, 0, 0, 0, 0]])"
      ]
     },
     "execution_count": 5,
     "metadata": {},
     "output_type": "execute_result"
    }
   ],
   "source": [
    "np.zeros((10,10), dtype = int)"
   ]
  },
  {
   "cell_type": "markdown",
   "metadata": {},
   "source": [
    "***"
   ]
  },
  {
   "cell_type": "markdown",
   "metadata": {},
   "source": [
    "#### 4. Icerisinde ‘1’ ler olan, veri tipi float olan 10X10’luk bir matris olusturunuz."
   ]
  },
  {
   "cell_type": "code",
   "execution_count": 6,
   "metadata": {},
   "outputs": [
    {
     "data": {
      "text/plain": [
       "array([[1., 1., 1., 1., 1., 1., 1., 1., 1., 1.],\n",
       "       [1., 1., 1., 1., 1., 1., 1., 1., 1., 1.],\n",
       "       [1., 1., 1., 1., 1., 1., 1., 1., 1., 1.],\n",
       "       [1., 1., 1., 1., 1., 1., 1., 1., 1., 1.],\n",
       "       [1., 1., 1., 1., 1., 1., 1., 1., 1., 1.],\n",
       "       [1., 1., 1., 1., 1., 1., 1., 1., 1., 1.],\n",
       "       [1., 1., 1., 1., 1., 1., 1., 1., 1., 1.],\n",
       "       [1., 1., 1., 1., 1., 1., 1., 1., 1., 1.],\n",
       "       [1., 1., 1., 1., 1., 1., 1., 1., 1., 1.],\n",
       "       [1., 1., 1., 1., 1., 1., 1., 1., 1., 1.]])"
      ]
     },
     "execution_count": 6,
     "metadata": {},
     "output_type": "execute_result"
    }
   ],
   "source": [
    "np.ones((10,10), dtype = float)"
   ]
  },
  {
   "cell_type": "markdown",
   "metadata": {},
   "source": [
    "***"
   ]
  },
  {
   "cell_type": "markdown",
   "metadata": {},
   "source": [
    "#### 5. Icerisinde ‘9’ lar olan, veri tipi integer olan 10X10’luk bir matris olusturunuz."
   ]
  },
  {
   "cell_type": "code",
   "execution_count": 7,
   "metadata": {},
   "outputs": [
    {
     "data": {
      "text/plain": [
       "array([[9, 9, 9, 9, 9, 9, 9, 9, 9, 9],\n",
       "       [9, 9, 9, 9, 9, 9, 9, 9, 9, 9],\n",
       "       [9, 9, 9, 9, 9, 9, 9, 9, 9, 9],\n",
       "       [9, 9, 9, 9, 9, 9, 9, 9, 9, 9],\n",
       "       [9, 9, 9, 9, 9, 9, 9, 9, 9, 9],\n",
       "       [9, 9, 9, 9, 9, 9, 9, 9, 9, 9],\n",
       "       [9, 9, 9, 9, 9, 9, 9, 9, 9, 9],\n",
       "       [9, 9, 9, 9, 9, 9, 9, 9, 9, 9],\n",
       "       [9, 9, 9, 9, 9, 9, 9, 9, 9, 9],\n",
       "       [9, 9, 9, 9, 9, 9, 9, 9, 9, 9]])"
      ]
     },
     "execution_count": 7,
     "metadata": {},
     "output_type": "execute_result"
    }
   ],
   "source": [
    "np.full((10,10), 9)"
   ]
  },
  {
   "cell_type": "markdown",
   "metadata": {},
   "source": [
    "***"
   ]
  },
  {
   "cell_type": "markdown",
   "metadata": {},
   "source": [
    "#### 6. 5 ile 25 arasinda, 3’er 3’er atlayan tek boyutlu bir Array olusturunuz.\n"
   ]
  },
  {
   "cell_type": "code",
   "execution_count": 8,
   "metadata": {},
   "outputs": [
    {
     "data": {
      "text/plain": [
       "array([ 5,  8, 11, 14, 17, 20, 23])"
      ]
     },
     "execution_count": 8,
     "metadata": {},
     "output_type": "execute_result"
    }
   ],
   "source": [
    "np.arange(5,25, 3)"
   ]
  },
  {
   "cell_type": "markdown",
   "metadata": {},
   "source": [
    "---"
   ]
  },
  {
   "cell_type": "markdown",
   "metadata": {},
   "source": [
    "#### 7. -1 ile 1 arasinda 30 adet Array olusturunuz.\n"
   ]
  },
  {
   "cell_type": "code",
   "execution_count": 9,
   "metadata": {},
   "outputs": [
    {
     "data": {
      "text/plain": [
       "array([-1.        , -0.93103448, -0.86206897, -0.79310345, -0.72413793,\n",
       "       -0.65517241, -0.5862069 , -0.51724138, -0.44827586, -0.37931034,\n",
       "       -0.31034483, -0.24137931, -0.17241379, -0.10344828, -0.03448276,\n",
       "        0.03448276,  0.10344828,  0.17241379,  0.24137931,  0.31034483,\n",
       "        0.37931034,  0.44827586,  0.51724138,  0.5862069 ,  0.65517241,\n",
       "        0.72413793,  0.79310345,  0.86206897,  0.93103448,  1.        ])"
      ]
     },
     "execution_count": 9,
     "metadata": {},
     "output_type": "execute_result"
    }
   ],
   "source": [
    "np.linspace(-1,1,30)"
   ]
  },
  {
   "cell_type": "markdown",
   "metadata": {},
   "source": [
    "***"
   ]
  },
  {
   "cell_type": "markdown",
   "metadata": {},
   "source": [
    "#### 8. 0 ile 30 arasinda 5x6’lik bir matris olusturun.\n"
   ]
  },
  {
   "cell_type": "code",
   "execution_count": 10,
   "metadata": {},
   "outputs": [
    {
     "data": {
      "text/plain": [
       "array([[2, 1, 9, 4, 9, 7],\n",
       "       [8, 3, 2, 2, 1, 4],\n",
       "       [1, 9, 7, 3, 1, 0],\n",
       "       [0, 0, 1, 2, 7, 9],\n",
       "       [4, 2, 0, 8, 8, 1]])"
      ]
     },
     "execution_count": 10,
     "metadata": {},
     "output_type": "execute_result"
    }
   ],
   "source": [
    "np.random.randint(0, 10, (5,6))"
   ]
  },
  {
   "cell_type": "markdown",
   "metadata": {},
   "source": [
    "***"
   ]
  },
  {
   "cell_type": "markdown",
   "metadata": {},
   "source": [
    "#### 9. Kosegenleri 1 olan 10x10’luk bir matris olusturunuz.\n"
   ]
  },
  {
   "cell_type": "code",
   "execution_count": 11,
   "metadata": {},
   "outputs": [
    {
     "data": {
      "text/plain": [
       "array([[1, 0, 0, 0, 0, 0, 0, 0, 0, 0],\n",
       "       [0, 1, 0, 0, 0, 0, 0, 0, 0, 0],\n",
       "       [0, 0, 1, 0, 0, 0, 0, 0, 0, 0],\n",
       "       [0, 0, 0, 1, 0, 0, 0, 0, 0, 0],\n",
       "       [0, 0, 0, 0, 1, 0, 0, 0, 0, 0],\n",
       "       [0, 0, 0, 0, 0, 1, 0, 0, 0, 0],\n",
       "       [0, 0, 0, 0, 0, 0, 1, 0, 0, 0],\n",
       "       [0, 0, 0, 0, 0, 0, 0, 1, 0, 0],\n",
       "       [0, 0, 0, 0, 0, 0, 0, 0, 1, 0],\n",
       "       [0, 0, 0, 0, 0, 0, 0, 0, 0, 1]])"
      ]
     },
     "execution_count": 11,
     "metadata": {},
     "output_type": "execute_result"
    }
   ],
   "source": [
    "np.eye(10,dtype=\"int\") "
   ]
  },
  {
   "cell_type": "markdown",
   "metadata": {},
   "source": [
    "***"
   ]
  },
  {
   "cell_type": "markdown",
   "metadata": {},
   "source": [
    "#### 10. 0 ile 10 arasinda 5x10’lik bir matris olusturun. (integer) ve bu matrisin; • eleman sayisini • boyut bilgisini/sayisini • satir X sutun bilgisini • veri tipini numpy metodlariyla yazdiriniz.\n"
   ]
  },
  {
   "cell_type": "code",
   "execution_count": 12,
   "metadata": {},
   "outputs": [
    {
     "data": {
      "text/plain": [
       "array([[2, 5, 9, 7, 2, 8, 1, 0, 4, 0],\n",
       "       [6, 1, 4, 5, 3, 3, 5, 6, 6, 9],\n",
       "       [9, 0, 9, 3, 3, 1, 1, 5, 1, 8],\n",
       "       [7, 2, 8, 6, 0, 5, 2, 7, 2, 7],\n",
       "       [3, 3, 8, 5, 6, 8, 5, 6, 1, 1]])"
      ]
     },
     "execution_count": 12,
     "metadata": {},
     "output_type": "execute_result"
    }
   ],
   "source": [
    "a=np.random.randint(0, 10, (5,10))\n",
    "a"
   ]
  },
  {
   "cell_type": "code",
   "execution_count": 13,
   "metadata": {},
   "outputs": [
    {
     "data": {
      "text/plain": [
       "50"
      ]
     },
     "execution_count": 13,
     "metadata": {},
     "output_type": "execute_result"
    }
   ],
   "source": [
    "a.size"
   ]
  },
  {
   "cell_type": "code",
   "execution_count": 14,
   "metadata": {},
   "outputs": [
    {
     "data": {
      "text/plain": [
       "2"
      ]
     },
     "execution_count": 14,
     "metadata": {},
     "output_type": "execute_result"
    }
   ],
   "source": [
    "a.ndim"
   ]
  },
  {
   "cell_type": "code",
   "execution_count": 15,
   "metadata": {},
   "outputs": [
    {
     "data": {
      "text/plain": [
       "(5, 10)"
      ]
     },
     "execution_count": 15,
     "metadata": {},
     "output_type": "execute_result"
    }
   ],
   "source": [
    "a.shape"
   ]
  },
  {
   "cell_type": "code",
   "execution_count": 16,
   "metadata": {},
   "outputs": [
    {
     "data": {
      "text/plain": [
       "dtype('int32')"
      ]
     },
     "execution_count": 16,
     "metadata": {},
     "output_type": "execute_result"
    }
   ],
   "source": [
    "a.dtype"
   ]
  },
  {
   "cell_type": "markdown",
   "metadata": {},
   "source": [
    "***"
   ]
  },
  {
   "cell_type": "markdown",
   "metadata": {},
   "source": [
    "#### 11 .0 ile 10 arasindaki degerlerden olusan 3 adet 4x7’lik bir matris olusturunuz. (3 boyutlu bir matris olusturulacak)"
   ]
  },
  {
   "cell_type": "code",
   "execution_count": 17,
   "metadata": {},
   "outputs": [
    {
     "data": {
      "text/plain": [
       "array([[[7, 3, 7, 3, 3, 8, 3],\n",
       "        [9, 9, 2, 5, 8, 2, 3],\n",
       "        [4, 1, 9, 5, 6, 1, 2],\n",
       "        [7, 0, 8, 7, 7, 2, 3]],\n",
       "\n",
       "       [[6, 5, 2, 1, 3, 0, 2],\n",
       "        [2, 1, 9, 0, 0, 2, 4],\n",
       "        [8, 0, 1, 8, 6, 8, 0],\n",
       "        [2, 7, 7, 0, 3, 2, 0]],\n",
       "\n",
       "       [[2, 5, 6, 9, 9, 3, 3],\n",
       "        [5, 0, 8, 2, 5, 1, 3],\n",
       "        [4, 7, 9, 8, 2, 0, 1],\n",
       "        [9, 7, 5, 0, 3, 5, 6]]])"
      ]
     },
     "execution_count": 17,
     "metadata": {},
     "output_type": "execute_result"
    }
   ],
   "source": [
    "b = np.random.randint(0, 10, (3,4,7))\n",
    "b"
   ]
  },
  {
   "cell_type": "markdown",
   "metadata": {},
   "source": [
    "***"
   ]
  },
  {
   "cell_type": "markdown",
   "metadata": {},
   "source": [
    "#### 12. Bir vektor olusturunuz ve daha sonrasinda ayni vektoru bir matrise ceviriniz. (boyut sayisini degistirin.)"
   ]
  },
  {
   "cell_type": "code",
   "execution_count": 18,
   "metadata": {},
   "outputs": [
    {
     "name": "stdout",
     "output_type": "stream",
     "text": [
      "[ 1  2  3  5  6  7  8  9 10]\n",
      "----------------------------\n",
      "vektor boyut : 1\n",
      "----------------\n",
      "[[ 1  2  3]\n",
      " [ 5  6  7]\n",
      " [ 8  9 10]]\n",
      "------------\n",
      "matrix boyut : 2\n"
     ]
    }
   ],
   "source": [
    "a = np.array([1,2,3,5,6,7,8,9,10]) \n",
    "print(a)\n",
    "print(\"----------------------------\")\n",
    "print(\"vektor boyut :\",a.ndim)\n",
    "print(\"----------------\")\n",
    "b = a.reshape((3,3))\n",
    "print(b)\n",
    "print(\"------------\")\n",
    "print(\"matrix boyut :\",b.ndim)"
   ]
  },
  {
   "cell_type": "markdown",
   "metadata": {},
   "source": [
    "***"
   ]
  },
  {
   "cell_type": "markdown",
   "metadata": {},
   "source": [
    "#### 13. 4 tane ayri tek boyutlu array’i birlestirerek bir array olusturunuz."
   ]
  },
  {
   "cell_type": "code",
   "execution_count": 19,
   "metadata": {},
   "outputs": [
    {
     "data": {
      "text/plain": [
       "array([ 1,  2,  3,  4,  5,  6,  7,  8,  9, 10, 11, 12])"
      ]
     },
     "execution_count": 19,
     "metadata": {},
     "output_type": "execute_result"
    }
   ],
   "source": [
    "a = np.array([1,2,3])\n",
    "b = np.array([4,5,6])\n",
    "c = np.array([7,8,9])\n",
    "d = np.array([10,11,12])\n",
    "np.concatenate([a, b , c, d])"
   ]
  },
  {
   "cell_type": "markdown",
   "metadata": {},
   "source": [
    "***"
   ]
  },
  {
   "cell_type": "markdown",
   "metadata": {},
   "source": [
    "#### 14. 2 boyutlu bir vektor ve bir matris olusturun(ayri ayri), bu iki arrayi numpy metodlarini kullanarak sutun bazli birlestiriniz,"
   ]
  },
  {
   "cell_type": "code",
   "execution_count": 20,
   "metadata": {},
   "outputs": [
    {
     "data": {
      "text/plain": [
       "array([[10,  9,  8,  7],\n",
       "       [11,  6,  5,  4]])"
      ]
     },
     "execution_count": 20,
     "metadata": {},
     "output_type": "execute_result"
    }
   ],
   "source": [
    "a = np.array([[10],\n",
    "              [11]])\n",
    "\n",
    "b = np.array([[9, 8, 7],\n",
    "              [6, 5, 4]])\n",
    "\n",
    "c = np.hstack([a, b])\n",
    "c\n"
   ]
  },
  {
   "cell_type": "markdown",
   "metadata": {},
   "source": [
    "---"
   ]
  },
  {
   "cell_type": "markdown",
   "metadata": {},
   "source": [
    "#### 15. Numpy’da “axis=1” ve “axis=0” arasinda ne fark vardir. Teorik olarak yaziniz?"
   ]
  },
  {
   "cell_type": "code",
   "execution_count": 21,
   "metadata": {},
   "outputs": [],
   "source": [
    "# Numpy’da boyutlar axis olarak isimlendirilir, axis hangi bazda işlem yapacağınızı açıklar, \n",
    "# axis = 0 ise satir bazında, axis = 1 ise sütun bazında işlem yapacağınız anlamına gelir."
   ]
  },
  {
   "cell_type": "markdown",
   "metadata": {},
   "source": [
    "***"
   ]
  },
  {
   "cell_type": "markdown",
   "metadata": {},
   "source": [
    "#### 16. Farkli boyutlardaki arraylari satin ve sutun bazli ayri ayri birlestiriniz."
   ]
  },
  {
   "cell_type": "code",
   "execution_count": 22,
   "metadata": {},
   "outputs": [
    {
     "data": {
      "text/plain": [
       "array([[0, 1, 2],\n",
       "       [0, 1, 2],\n",
       "       [3, 4, 5],\n",
       "       [6, 7, 8]])"
      ]
     },
     "execution_count": 22,
     "metadata": {},
     "output_type": "execute_result"
    }
   ],
   "source": [
    "a = np.arange(3)\n",
    "b = np.arange(9).reshape(3,3)\n",
    "c = np.vstack([a, b])\n",
    "c\n"
   ]
  },
  {
   "cell_type": "markdown",
   "metadata": {},
   "source": [
    "***"
   ]
  },
  {
   "cell_type": "markdown",
   "metadata": {},
   "source": [
    "#### 17. 10 elemanli bi liste olusturunuz ve bu listeyi Numpy metodlariyla bolerek(split) 5 ayri array olusturunuz."
   ]
  },
  {
   "cell_type": "code",
   "execution_count": 23,
   "metadata": {},
   "outputs": [],
   "source": [
    "x = np.arange(10)"
   ]
  },
  {
   "cell_type": "code",
   "execution_count": 24,
   "metadata": {},
   "outputs": [
    {
     "data": {
      "text/plain": [
       "[array([0]), array([1, 2]), array([3, 4]), array([5, 6]), array([7, 8, 9])]"
      ]
     },
     "execution_count": 24,
     "metadata": {},
     "output_type": "execute_result"
    }
   ],
   "source": [
    "np.split(x, [1,3,5,7])"
   ]
  },
  {
   "cell_type": "markdown",
   "metadata": {},
   "source": [
    "***"
   ]
  },
  {
   "cell_type": "markdown",
   "metadata": {},
   "source": [
    "#### 18. Random bir array olusturunuz ve bu arrayi buyukten kucuge dogru siralayiniz.Ve bu siralamadan sonra hangi elemanin hangi indexte oldugunu gosteren bir metod uygulayiniz."
   ]
  },
  {
   "cell_type": "code",
   "execution_count": 25,
   "metadata": {},
   "outputs": [
    {
     "data": {
      "text/plain": [
       "array([7, 3, 5, 3, 2, 1, 1, 0])"
      ]
     },
     "execution_count": 25,
     "metadata": {},
     "output_type": "execute_result"
    }
   ],
   "source": [
    "a_random = np.random.randint(10, size=8)\n",
    "a_random"
   ]
  },
  {
   "cell_type": "markdown",
   "metadata": {},
   "source": [
    "siralama"
   ]
  },
  {
   "cell_type": "code",
   "execution_count": 26,
   "metadata": {},
   "outputs": [
    {
     "data": {
      "text/plain": [
       "array([0, 1, 1, 2, 3, 3, 5, 7])"
      ]
     },
     "execution_count": 26,
     "metadata": {},
     "output_type": "execute_result"
    }
   ],
   "source": [
    "np.sort(a_random) "
   ]
  },
  {
   "cell_type": "markdown",
   "metadata": {},
   "source": [
    "siralamadan sonra hangi elemanin hangi indexte oldugu"
   ]
  },
  {
   "cell_type": "code",
   "execution_count": 27,
   "metadata": {},
   "outputs": [
    {
     "data": {
      "text/plain": [
       "array([7, 5, 6, 4, 1, 3, 2, 0], dtype=int64)"
      ]
     },
     "execution_count": 27,
     "metadata": {},
     "output_type": "execute_result"
    }
   ],
   "source": [
    "np.argsort(a_random) "
   ]
  },
  {
   "cell_type": "markdown",
   "metadata": {},
   "source": [
    "***"
   ]
  },
  {
   "cell_type": "markdown",
   "metadata": {},
   "source": [
    "#### 19. 20 elemanli random bir vektor olusturunuz. Bu vektorun 3. 5. ve 7. elemanlarina ulasin."
   ]
  },
  {
   "cell_type": "code",
   "execution_count": 28,
   "metadata": {},
   "outputs": [
    {
     "data": {
      "text/plain": [
       "array([ 1, 24, 20, 38, 25,  5, 27, 19, 18, 44, 25, 49, 23, 28, 38,  0, 39,\n",
       "       24,  0,  0])"
      ]
     },
     "execution_count": 28,
     "metadata": {},
     "output_type": "execute_result"
    }
   ],
   "source": [
    "b_random=np.random.randint(50, size = 20)\n",
    "b_random"
   ]
  },
  {
   "cell_type": "markdown",
   "metadata": {},
   "source": [
    "vektorun 3. 5. ve 7. elemanlari"
   ]
  },
  {
   "cell_type": "code",
   "execution_count": 29,
   "metadata": {},
   "outputs": [
    {
     "name": "stdout",
     "output_type": "stream",
     "text": [
      "3.Eleman 38\n",
      "-----------\n",
      "5.Eleman 5\n",
      "-----------\n",
      "7.Eleman 19\n"
     ]
    }
   ],
   "source": [
    "eleman_3 = b_random[3]\n",
    "eleman_5 = b_random[5]\n",
    "eleman_7 = b_random[7]\n",
    "print(\"3.Eleman\", eleman_3)\n",
    "print(\"-----------\")\n",
    "print(\"5.Eleman\", eleman_5)\n",
    "print(\"-----------\")\n",
    "print(\"7.Eleman\", eleman_7)\n"
   ]
  },
  {
   "cell_type": "markdown",
   "metadata": {},
   "source": [
    "***"
   ]
  },
  {
   "cell_type": "markdown",
   "metadata": {},
   "source": [
    "#### 20. 10 elemanli random bir vektor olusturunuz ve bu arrayin 4. elemanini farkli bir sayiyla degistiriniz."
   ]
  },
  {
   "cell_type": "code",
   "execution_count": 30,
   "metadata": {},
   "outputs": [
    {
     "data": {
      "text/plain": [
       "array([29,  2, 36, 27, 15,  9, 38, 12, 34,  0])"
      ]
     },
     "execution_count": 30,
     "metadata": {},
     "output_type": "execute_result"
    }
   ],
   "source": [
    "c_random = np.random.randint(55, size=10)\n",
    "c_random\n"
   ]
  },
  {
   "cell_type": "markdown",
   "metadata": {},
   "source": [
    "4.elemanini 6 sayiyla degistirme"
   ]
  },
  {
   "cell_type": "code",
   "execution_count": 31,
   "metadata": {},
   "outputs": [
    {
     "data": {
      "text/plain": [
       "array([29,  2, 36,  6, 15,  9, 38, 12, 34,  0])"
      ]
     },
     "execution_count": 31,
     "metadata": {},
     "output_type": "execute_result"
    }
   ],
   "source": [
    "c_random[3] = 6\n",
    "c_random"
   ]
  },
  {
   "cell_type": "markdown",
   "metadata": {},
   "source": [
    "***"
   ]
  },
  {
   "cell_type": "markdown",
   "metadata": {},
   "source": [
    "#### 21. “Diagonal Matrix” ve “Trace of Matrix” kavramlari hakkinda kucuk bir arastirma yapip bunlarin ne oldugunu belirten kucuk bir aciklama yaziniz."
   ]
  },
  {
   "cell_type": "code",
   "execution_count": 32,
   "metadata": {},
   "outputs": [],
   "source": [
    "# Diagonal Matrix   : Köşegen dışı tüm girişlerin sıfır olduğu bir matristir. \n",
    "# Trace Matrix      : Bir kare matrisin ana köşegenindeki elemanların toplamıdir."
   ]
  },
  {
   "cell_type": "markdown",
   "metadata": {},
   "source": [
    "***"
   ]
  },
  {
   "cell_type": "markdown",
   "metadata": {},
   "source": [
    "#### 22. 5x5’lik Diagonal bir matris olusturunuz ve Diagonaline denk gelen indexlere ulasiniz.(ayri ayri)"
   ]
  },
  {
   "cell_type": "code",
   "execution_count": 33,
   "metadata": {},
   "outputs": [
    {
     "name": "stdout",
     "output_type": "stream",
     "text": [
      "[[21  6 35  0  9]\n",
      " [ 1 20 44 32 18]\n",
      " [36 35 40 11 13]\n",
      " [ 7 17  5 43  5]\n",
      " [ 2 41 10 34 46]]\n",
      "--------------------------------\n",
      "diagonal_matrix [21 20 40 43 46]\n"
     ]
    }
   ],
   "source": [
    "a = np.random.randint(0, 50, (5, 5))  # oncelikle bir matrix olusturduk\n",
    "print(a)\n",
    "print(\"--------------------------------\")\n",
    "print(\"diagonal_matrix\", a.diagonal())\n"
   ]
  },
  {
   "cell_type": "markdown",
   "metadata": {},
   "source": [
    "***"
   ]
  },
  {
   "cell_type": "markdown",
   "metadata": {},
   "source": [
    "##### 23. 10 ile 20 arasinda bir vektor olusturunuz. Ve 3. indexten son indexe kadar olan degerleri yazdiriniz."
   ]
  },
  {
   "cell_type": "code",
   "execution_count": 34,
   "metadata": {},
   "outputs": [
    {
     "data": {
      "text/plain": [
       "array([13, 14, 15, 16, 17, 18, 19])"
      ]
     },
     "execution_count": 34,
     "metadata": {},
     "output_type": "execute_result"
    }
   ],
   "source": [
    "a = np.arange(10, 20)\n",
    "a[3:]\n"
   ]
  },
  {
   "cell_type": "markdown",
   "metadata": {},
   "source": [
    "***"
   ]
  },
  {
   "cell_type": "markdown",
   "metadata": {},
   "source": [
    "##### 24. 10X10 luk bir matris olusturunuz ve ; • 3.satir ve 5.sutuna ulasiniz. • 5.sutunun tum satirlarina ulasiniz. • Tum sutunlarin 2.satirlarina ulasiniz. • tum sutunlarin 2 ile 7 arasindaki satirlarina ulasiniz. • satir indexi 2’den 5’e ve sutun indexi 3 den 7’ye kadar olan degerlere ulasiniz. • satir indexi 5’den en sona ve sutun indexi en bastan 4’e kadar olan degerlere ulasiniz. • sutun indexi sadece 3, 6, 9 olan kolonlarin(sutunlarin), tum satirlarina ulasiniz. • 5.indexli satir ve 5.indexli sutuna denk gelen degeri, dogum yilinizla degistiriniz."
   ]
  },
  {
   "cell_type": "code",
   "execution_count": 35,
   "metadata": {},
   "outputs": [
    {
     "name": "stdout",
     "output_type": "stream",
     "text": [
      "[[26 10  9 16 36 39  3 12  9 24]\n",
      " [ 3 29 24 17 22 27 17 19 24 43]\n",
      " [43 49 38 37 30  2 19 18 11 17]\n",
      " [14 46  8 45 49 14 12  7 19 16]\n",
      " [44 22  3  5 30 13 24 21  2 10]\n",
      " [14  3  5 36 16 39 39 30 41 26]\n",
      " [29 47  2 39 36 26 27 16  7 42]\n",
      " [ 7  4  2  5 28 46 37 26  2  3]\n",
      " [ 9 36 25 24 27 21 21  2 14 18]\n",
      " [15 11 12 44  0 43 15 36 13 32]]\n"
     ]
    }
   ],
   "source": [
    "a = np.random.randint(50, size=(10, 10))\n",
    "print(a)\n"
   ]
  },
  {
   "cell_type": "markdown",
   "metadata": {},
   "source": [
    "3.Satirin 5.Sutunu"
   ]
  },
  {
   "cell_type": "code",
   "execution_count": 36,
   "metadata": {},
   "outputs": [
    {
     "data": {
      "text/plain": [
       "array([14, 13, 39, 26, 46, 21, 43])"
      ]
     },
     "execution_count": 36,
     "metadata": {},
     "output_type": "execute_result"
    }
   ],
   "source": [
    "a[3:,5]"
   ]
  },
  {
   "cell_type": "markdown",
   "metadata": {},
   "source": [
    "5.Sutunun Tum Satirlarina"
   ]
  },
  {
   "cell_type": "code",
   "execution_count": 37,
   "metadata": {},
   "outputs": [
    {
     "data": {
      "text/plain": [
       "array([39, 27,  2, 14, 13, 39, 26, 46, 21, 43])"
      ]
     },
     "execution_count": 37,
     "metadata": {},
     "output_type": "execute_result"
    }
   ],
   "source": [
    "a[:,5]\n"
   ]
  },
  {
   "cell_type": "markdown",
   "metadata": {},
   "source": [
    "Tum Sutunlarin 2.Satiri"
   ]
  },
  {
   "cell_type": "code",
   "execution_count": 38,
   "metadata": {},
   "outputs": [
    {
     "data": {
      "text/plain": [
       "array([43, 49, 38, 37, 30,  2, 19, 18, 11, 17])"
      ]
     },
     "execution_count": 38,
     "metadata": {},
     "output_type": "execute_result"
    }
   ],
   "source": [
    "a[2,:]"
   ]
  },
  {
   "cell_type": "markdown",
   "metadata": {},
   "source": [
    "Tum Sutunlarin 2 ile 7 arasi Satirlari"
   ]
  },
  {
   "cell_type": "code",
   "execution_count": 39,
   "metadata": {},
   "outputs": [
    {
     "data": {
      "text/plain": [
       "array([[43, 49, 38, 37, 30,  2, 19, 18, 11, 17],\n",
       "       [14, 46,  8, 45, 49, 14, 12,  7, 19, 16],\n",
       "       [44, 22,  3,  5, 30, 13, 24, 21,  2, 10],\n",
       "       [14,  3,  5, 36, 16, 39, 39, 30, 41, 26],\n",
       "       [29, 47,  2, 39, 36, 26, 27, 16,  7, 42]])"
      ]
     },
     "execution_count": 39,
     "metadata": {},
     "output_type": "execute_result"
    }
   ],
   "source": [
    "a[2:7,:]"
   ]
  },
  {
   "cell_type": "markdown",
   "metadata": {},
   "source": [
    "Satir 2 den 5 e-sutun 3 den 7 e"
   ]
  },
  {
   "cell_type": "code",
   "execution_count": 40,
   "metadata": {},
   "outputs": [
    {
     "data": {
      "text/plain": [
       "array([[37, 30,  2, 19],\n",
       "       [45, 49, 14, 12],\n",
       "       [ 5, 30, 13, 24]])"
      ]
     },
     "execution_count": 40,
     "metadata": {},
     "output_type": "execute_result"
    }
   ],
   "source": [
    "a[2:5,3:7]"
   ]
  },
  {
   "cell_type": "markdown",
   "metadata": {},
   "source": [
    "Satir 5 den sona e-sutun 0 dan 4 e"
   ]
  },
  {
   "cell_type": "code",
   "execution_count": 41,
   "metadata": {},
   "outputs": [
    {
     "data": {
      "text/plain": [
       "array([[14,  3,  5, 36],\n",
       "       [29, 47,  2, 39],\n",
       "       [ 7,  4,  2,  5],\n",
       "       [ 9, 36, 25, 24],\n",
       "       [15, 11, 12, 44]])"
      ]
     },
     "execution_count": 41,
     "metadata": {},
     "output_type": "execute_result"
    }
   ],
   "source": [
    "a[5:,:4]\n"
   ]
  },
  {
   "cell_type": "markdown",
   "metadata": {},
   "source": [
    "3-6-9 sutunlarin tum satiri"
   ]
  },
  {
   "cell_type": "code",
   "execution_count": 42,
   "metadata": {},
   "outputs": [
    {
     "data": {
      "text/plain": [
       "array([[16,  3, 24],\n",
       "       [17, 17, 43],\n",
       "       [37, 19, 17],\n",
       "       [45, 12, 16],\n",
       "       [ 5, 24, 10],\n",
       "       [36, 39, 26],\n",
       "       [39, 27, 42],\n",
       "       [ 5, 37,  3],\n",
       "       [24, 21, 18],\n",
       "       [44, 15, 32]])"
      ]
     },
     "execution_count": 42,
     "metadata": {},
     "output_type": "execute_result"
    }
   ],
   "source": [
    "a[0:,[3,6,9]]\n"
   ]
  },
  {
   "cell_type": "code",
   "execution_count": 43,
   "metadata": {},
   "outputs": [
    {
     "name": "stdout",
     "output_type": "stream",
     "text": [
      "[[  26   10    9   16   36   39    3   12    9   24]\n",
      " [   3   29   24   17   22   27   17   19   24   43]\n",
      " [  43   49   38   37   30    2   19   18   11   17]\n",
      " [  14   46    8   45   49   14   12    7   19   16]\n",
      " [  44   22    3    5   30   13   24   21    2   10]\n",
      " [  14    3    5   36   16 1985   39   30   41   26]\n",
      " [  29   47    2   39   36   26   27   16    7   42]\n",
      " [   7    4    2    5   28   46   37   26    2    3]\n",
      " [   9   36   25   24   27   21   21    2   14   18]\n",
      " [  15   11   12   44    0   43   15   36   13   32]]\n"
     ]
    }
   ],
   "source": [
    "a[5, 5] = 1985\n",
    "print(a)\n"
   ]
  },
  {
   "cell_type": "markdown",
   "metadata": {},
   "source": [
    "***"
   ]
  },
  {
   "cell_type": "markdown",
   "metadata": {},
   "source": [
    "#### 25. 0’dan 50’ye kadar 5’er 5’er atlayarak giden bir array olusturunuz(tek boyutlu) ve numpy metodlariyla asagidaki islemleri uygulayin; • 20 den buyuk olan kac deger var. • 30’dan kucuk kac deger var • icerisinde 33 gecen kac deger var • olusturulan arrayin tum elemanlarini 5 ile carpin. • olusturulan arrayin tum elemanlarinin 2 ile bolumunden kalanlari yazdiriniz."
   ]
  },
  {
   "cell_type": "code",
   "execution_count": 44,
   "metadata": {},
   "outputs": [
    {
     "name": "stdout",
     "output_type": "stream",
     "text": [
      "array                                    : [ 0  5 10 15 20 25 30 35 40 45]\n",
      "---------------------------------------------------------------------------\n",
      "20 den Buyuk Degerler                    : 5\n",
      "---------------------------------------------\n",
      "30 dan Kucuk Degerler                    : 6\n",
      "---------------------------------------------\n",
      "33 Olan Degerler                         : 0\n",
      "---------------------------------------------\n",
      "Tum Elemanlarin 5 ile Carpimi            : [  0  25  50  75 100 125 150 175 200 225]\n",
      "------------------------------------------------------------------------------------\n",
      "Tum Elemanlarin 2 ile Bolumunden Kalan   : [0 1 0 1 0 1 0 1 0 1]\n",
      "----------------------------------------------------------------\n"
     ]
    }
   ],
   "source": [
    "a = np.arange(0, 50, 5)\n",
    "print(\"array                                    :\", a)\n",
    "print(\"---------------------------------------------------------------------------\")\n",
    "print(\"20 den Buyuk Degerler                    :\", np.sum(a > 20))\n",
    "print(\"---------------------------------------------\")\n",
    "print(\"30 dan Kucuk Degerler                    :\", np.sum(a < 30))\n",
    "print(\"---------------------------------------------\")\n",
    "print(\"33 Olan Degerler                         :\", np.sum((a > 33) & (a < 33)))\n",
    "print(\"---------------------------------------------\")\n",
    "print(\"Tum Elemanlarin 5 ile Carpimi            :\", a * 5)\n",
    "print(\"------------------------------------------------------------------------------------\")\n",
    "print(\"Tum Elemanlarin 2 ile Bolumunden Kalan   :\", a % 2)\n",
    "print(\"----------------------------------------------------------------\")\n"
   ]
  },
  {
   "cell_type": "markdown",
   "metadata": {},
   "source": [
    "***"
   ]
  },
  {
   "cell_type": "markdown",
   "metadata": {},
   "source": [
    "#### 26. 0 ile 1 arasinda 50 elamanli bir array olusturunuz ve; • orlamasini aliniz. • standart sapmasini aliniz. • varyansini aliniz. • median’ini aliniz. • en kucuk degeri bulunuz. • en buyuk degeri bulunuz. Master odev ; Bir dongu icerisinde random olacak sekilde iki tane 20x20’luk matris uretin ve bu matrislerin farklarini alin. Ve fark matrisinin diagonali, -0.1 ile 0.1 arasinda olana kadar bu islemi tekrarlayin. Istenilen matris bulundugunda program dursun ve toplam kac dongunun kuruldugunu, ne kadar sure icinde buldugunu ve istenilen matrisi print ile birlikte ekrana yazdiriniz... Tavsiye: 20 x 20 luk matrisin bulunmasi saatler surebilir. Bu yuzden algoritmanizin dogrulugunu test etmek icin once 4x4, 5x5 gibi kucuk matrislerde deneyebilirsiniz. Ve matris sayisisini arttirarak en son 20x20 u deneyebilirsiniz."
   ]
  },
  {
   "cell_type": "code",
   "execution_count": 45,
   "metadata": {},
   "outputs": [
    {
     "name": "stdout",
     "output_type": "stream",
     "text": [
      "[0.         0.02040816 0.04081633 0.06122449 0.08163265 0.10204082\n",
      " 0.12244898 0.14285714 0.16326531 0.18367347 0.20408163 0.2244898\n",
      " 0.24489796 0.26530612 0.28571429 0.30612245 0.32653061 0.34693878\n",
      " 0.36734694 0.3877551  0.40816327 0.42857143 0.44897959 0.46938776\n",
      " 0.48979592 0.51020408 0.53061224 0.55102041 0.57142857 0.59183673\n",
      " 0.6122449  0.63265306 0.65306122 0.67346939 0.69387755 0.71428571\n",
      " 0.73469388 0.75510204 0.7755102  0.79591837 0.81632653 0.83673469\n",
      " 0.85714286 0.87755102 0.89795918 0.91836735 0.93877551 0.95918367\n",
      " 0.97959184 1.        ]\n",
      "-------------------------------------------------------------------\n",
      "Ortalamasi           : 0.5\n",
      "-----------------------------------------\n",
      "Standart Sapma       : 0.2945075446869757\n",
      "-----------------------------------------\n",
      "Varyans              : 0.086734693877551\n",
      "-----------------------------------------\n",
      "Median               : 0.5\n",
      "---------------------------\n",
      "En Kucuk Deger       : 0.0\n",
      "---------------------------\n",
      "En Buyuk Deger       : 1.0\n",
      "---------------------------\n"
     ]
    }
   ],
   "source": [
    "a = np.linspace(0, 1, 50)\n",
    "print(a)\n",
    "print(\"-------------------------------------------------------------------\")\n",
    "print(\"Ortalamasi           :\", np.mean(a))\n",
    "print(\"-----------------------------------------\")\n",
    "print(\"Standart Sapma       :\", np.std(a))\n",
    "print(\"-----------------------------------------\")\n",
    "print(\"Varyans              :\", np.var(a))\n",
    "print(\"-----------------------------------------\")\n",
    "print(\"Median               :\", np.median(a))\n",
    "print(\"---------------------------\")\n",
    "print(\"En Kucuk Deger       :\", np.min(a))\n",
    "print(\"---------------------------\")\n",
    "print(\"En Buyuk Deger       :\", np.max(a))\n",
    "print(\"---------------------------\")\n"
   ]
  },
  {
   "cell_type": "markdown",
   "metadata": {},
   "source": [
    "***"
   ]
  },
  {
   "cell_type": "markdown",
   "metadata": {},
   "source": [
    "##### Master odev ; Bir dongu icerisinde random olacak sekilde iki tane 20x20’luk matris uretin ve bu matrislerin farklarini alin. Ve fark matrisinin diagonali, -0.1 ile 0.1 arasinda olana kadar bu islemi tekrarlayin. Istenilen matris bulundugunda program dursun ve toplam kac dongunun kuruldugunu, ne kadar sure icinde buldugunu ve istenilen matrisi print ile birlikte ekrana yazdiriniz... Tavsiye: 20 x 20 luk matrisin bulunmasi saatler surebilir. Bu yuzden algoritmanizin dogrulugunu test etmek icin once 4x4, 5x5 gibi kucuk matrislerde deneyebilirsiniz. Ve matris sayisisini arttirarak en son 20x20 u deneyebilirsiniz."
   ]
  },
  {
   "cell_type": "code",
   "execution_count": 52,
   "metadata": {},
   "outputs": [
    {
     "name": "stdout",
     "output_type": "stream",
     "text": [
      "Elapsed Time : 3.650864601135254\n",
      "-----------------------------------------\n",
      "Loop Number  : 334207\n",
      "Matris       : [[-0.08736076 -0.58240654 -0.59757226 -0.21514235  0.43237035 -0.08158674\n",
      "   0.33603506 -0.29302749]\n",
      " [-0.23559651 -0.04452079  0.32186111  0.68401024 -0.53941606 -0.6639104\n",
      "  -0.13037398  0.0070479 ]\n",
      " [ 0.23125886  0.26756808  0.04738287 -0.5831596  -0.06051403 -0.03965182\n",
      "   0.45250635 -0.66589686]\n",
      " [-0.26200103 -0.71667061  0.25165235 -0.08531553  0.20537022 -0.0842437\n",
      "   0.02350919  0.1387915 ]\n",
      " [-0.50228276  0.49028936 -0.14226718  0.72682138 -0.05344641 -0.26652763\n",
      "   0.94418333  0.3201581 ]\n",
      " [ 0.28118944  0.00653971 -0.48433945 -0.00894165 -0.46087746  0.09503104\n",
      "   0.30638344 -0.24541352]\n",
      " [ 0.64799159  0.11053174  0.23676439 -0.48628782 -0.03407671  0.14450295\n",
      "  -0.01987233  0.45058967]\n",
      " [-0.08082792  0.14234465  0.13455291  0.08543473 -0.16071704  0.16111115\n",
      "   0.07408509  0.04365349]]\n"
     ]
    }
   ],
   "source": [
    "import time\n",
    "\n",
    "start_time = time.time()\n",
    "count = 0\n",
    "\n",
    "while True:\n",
    "    count += 1\n",
    "    mat_1 = np.random.rand(8, 8)\n",
    "    # print('mat1', mat_1 )\n",
    "    mat_2 = np.random.rand(8, 8)\n",
    "    # print('mat2', mat_2 )\n",
    "    diago = np.diag(mat_1 - mat_2)\n",
    "    #print('diago', diago)\n",
    "\n",
    "    if (np.all((diago > -0.1) & (diago < 0.1)))==True:\n",
    "        t2=time.time()\n",
    "        break    \n",
    "\n",
    "finish_time = time.time()\n",
    "print('Elapsed Time :', finish_time - start_time )\n",
    "print('Loop Number  :', count)\n",
    "print('Matris       :', mat_1 - mat_2)"
   ]
  },
  {
   "cell_type": "markdown",
   "metadata": {},
   "source": []
  }
 ],
 "metadata": {
  "interpreter": {
   "hash": "e1ca197443d46a0185849d4ba13e6d06ea2b3f5146523711e2323fd5352503b3"
  },
  "kernelspec": {
   "display_name": "Python 3.9.11 64-bit (system)",
   "language": "python",
   "name": "python3"
  },
  "language_info": {
   "codemirror_mode": {
    "name": "ipython",
    "version": 3
   },
   "file_extension": ".py",
   "mimetype": "text/x-python",
   "name": "python",
   "nbconvert_exporter": "python",
   "pygments_lexer": "ipython3",
   "version": "3.9.11"
  },
  "orig_nbformat": 4
 },
 "nbformat": 4,
 "nbformat_minor": 2
}
